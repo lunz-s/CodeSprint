{
 "cells": [
  {
   "cell_type": "code",
   "execution_count": 1,
   "metadata": {},
   "outputs": [],
   "source": [
    "from AdversarialRegularizer import AdversarialRegulariser\n",
    "from networks import AlexNet_3D\n",
    "from ellipsgen.generate_data_function import get_batch\n",
    "import numpy as np\n",
    "\n",
    "BATCH_SIZE = 1\n",
    "LOOPS = 2\n",
    "STEPS = 5000"
   ]
  },
  {
   "cell_type": "code",
   "execution_count": 2,
   "metadata": {},
   "outputs": [],
   "source": [
    "# Parameter choices. Heuristic in the BWGAN paper: Choose GAMMA as average dual norm of clean image\n",
    "# LMB should be bigger than product of norm times dual norm.\n",
    "\n",
    "# For s=0.0, this implies GAMMA =1.0\n",
    "# For s=1.0, have GAMMA = 10.0 as realisitc value\n",
    "S = 0.0\n",
    "LMB = 10.0\n",
    "GAMMA = 1.0\n",
    "CUTOFF = 20.0\n",
    "\n",
    "saves_path = '/export/scratch1/home/voxels-gpu0/codesprint_learned_prior/AdvRegSaves/ell_noisy_128'"
   ]
  },
  {
   "cell_type": "code",
   "execution_count": 3,
   "metadata": {},
   "outputs": [
    {
     "name": "stdout",
     "output_type": "stream",
     "text": [
      "WARNING:tensorflow:From /export/scratch1/home/voxels-gpu0/codesprint_learned_prior/CodeSprint/ut.py:84: div (from tensorflow.python.ops.math_ops) is deprecated and will be removed in a future version.\n",
      "Instructions for updating:\n",
      "Deprecated in favor of operator or tf.math.divide.\n",
      "WARNING:tensorflow:From /export/scratch1/home/voxels-gpu0/codesprint_learned_prior/CodeSprint/networks.py:66: conv3d (from tensorflow.python.layers.convolutional) is deprecated and will be removed in a future version.\n",
      "Instructions for updating:\n",
      "Use keras.layers.conv3d instead.\n",
      "WARNING:tensorflow:From /export/scratch1/home/voxels-gpu0/miniconda3/lib/python3.7/site-packages/tensorflow/python/framework/op_def_library.py:263: colocate_with (from tensorflow.python.framework.ops) is deprecated and will be removed in a future version.\n",
      "Instructions for updating:\n",
      "Colocations handled automatically by placer.\n",
      "WARNING:tensorflow:From /export/scratch1/home/voxels-gpu0/codesprint_learned_prior/CodeSprint/networks.py:129: average_pooling3d (from tensorflow.python.layers.pooling) is deprecated and will be removed in a future version.\n",
      "Instructions for updating:\n",
      "Use keras.layers.average_pooling3d instead.\n",
      "WARNING:tensorflow:From /export/scratch1/home/voxels-gpu0/codesprint_learned_prior/CodeSprint/networks.py:86: flatten (from tensorflow.python.layers.core) is deprecated and will be removed in a future version.\n",
      "Instructions for updating:\n",
      "Use keras.layers.flatten instead.\n",
      "WARNING:tensorflow:From /export/scratch1/home/voxels-gpu0/codesprint_learned_prior/CodeSprint/networks.py:89: dense (from tensorflow.python.layers.core) is deprecated and will be removed in a future version.\n",
      "Instructions for updating:\n",
      "Use keras.layers.dense instead.\n",
      "WARNING:tensorflow:From /export/scratch1/home/voxels-gpu0/miniconda3/lib/python3.7/site-packages/tensorflow/python/ops/math_ops.py:3066: to_int32 (from tensorflow.python.ops.math_ops) is deprecated and will be removed in a future version.\n",
      "Instructions for updating:\n",
      "Use tf.cast instead.\n",
      "No save found\n"
     ]
    }
   ],
   "source": [
    "img_size=128\n",
    "regularizer = AdversarialRegulariser(saves_path, IMAGE_SIZE=(None, img_size, img_size, img_size, 1), NETWORK=AlexNet_3D,\n",
    "                                     s=S, cutoff=20.0, lmb=LMB, gamma=GAMMA)"
   ]
  },
  {
   "cell_type": "code",
   "execution_count": 7,
   "metadata": {},
   "outputs": [],
   "source": [
    "def load_pair(i):\n",
    "    prefix = '../noisy_128/'\n",
    "    fdk = np.load(prefix + 'FDK/dataset' + str(i) + '.npy')\n",
    "    gt = np.load(prefix + 'GT/dataset' + str(i) + '.npy')\n",
    "    \n",
    "    return fdk, gt\n",
    "\n",
    "\n",
    "def evaluate():\n",
    "    # gt, adv = get_batch(eval_data=True, noise_levels=['01', '016'], methods=['EM', 'SGD'])\n",
    "    regularizer.test(groundTruth=gt, adversarial=adv)\n",
    "\n",
    "    \n",
    "def train(steps):\n",
    "    for k in range(steps):\n",
    "        # gt, adv = get_batch(eval_data=False)\n",
    "        gt, adv = load_pair(k)\n",
    "        regularizer.train(groundTruth=gt, adversarial=adv, learning_rate=LEARNING_RATE)\n",
    "        # if k%50==0:\n",
    "        #    evaluate()\n",
    "    regularizer.save()"
   ]
  },
  {
   "cell_type": "code",
   "execution_count": null,
   "metadata": {},
   "outputs": [],
   "source": [
    "LEARNING_RATE = 0.00005\n",
    "for k in range(LOOPS):\n",
    "    train(STEPS)\n",
    "\n",
    "LEARNING_RATE = 0.00002\n",
    "for k in range(LOOPS):\n",
    "    train(STEPS)\n"
   ]
  },
  {
   "cell_type": "code",
   "execution_count": null,
   "metadata": {},
   "outputs": [],
   "source": []
  }
 ],
 "metadata": {
  "kernelspec": {
   "display_name": "Python 3",
   "language": "python",
   "name": "python3"
  },
  "language_info": {
   "codemirror_mode": {
    "name": "ipython",
    "version": 3
   },
   "file_extension": ".py",
   "mimetype": "text/x-python",
   "name": "python",
   "nbconvert_exporter": "python",
   "pygments_lexer": "ipython3",
   "version": "3.7.3"
  }
 },
 "nbformat": 4,
 "nbformat_minor": 2
}
