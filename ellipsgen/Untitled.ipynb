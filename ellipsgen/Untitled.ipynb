{
 "cells": [
  {
   "cell_type": "code",
   "execution_count": null,
   "metadata": {},
   "outputs": [],
   "source": [
    "import os\n",
    "import astra\n",
    "os.environ[\"CUDA_VISIBLE_DEVICES\"] = \"0,1,2,3\"\n",
    "%env CUDA_VISIBLE_DEVICES\n",
    "astra.set_gpu_index((0, 1, 2, 3))\n",
    "import phantom_class as ph\n",
    "import CCB_class as CT\n",
    "import numpy as np\n",
    "import astra\n",
    "# %%\n",
    "num_vox = 1024\n",
    "voxels = [num_vox, num_vox, num_vox]\n",
    "angles = 360\n",
    "noise = None #['Poisson', 2 ** 14]\n",
    "src_rad = 10\n",
    "det_rad = 0\n",
    "PH = '22 Ellipses'\n",
    "\n",
    "\n",
    "data_obj = ph.phantom(voxels, PH, angles, noise, src_rad, det_rad)\n",
    "# %%\n",
    "case = CT.CCB_CT(data_obj)\n",
    "\n",
    "# %%\n",
    "rec = case.do_FDK()\n",
    "# %%\n",
    "case.show_phantom()\n",
    "case.show(rec)"
   ]
  },
  {
   "cell_type": "code",
   "execution_count": null,
   "metadata": {},
   "outputs": [],
   "source": [
    "%timeit case.do_FDK()"
   ]
  },
  {
   "cell_type": "code",
   "execution_count": null,
   "metadata": {},
   "outputs": [],
   "source": []
  }
 ],
 "metadata": {
  "kernelspec": {
   "display_name": "Python 3",
   "language": "python",
   "name": "python3"
  },
  "language_info": {
   "codemirror_mode": {
    "name": "ipython",
    "version": 3
   },
   "file_extension": ".py",
   "mimetype": "text/x-python",
   "name": "python",
   "nbconvert_exporter": "python",
   "pygments_lexer": "ipython3",
   "version": "3.7.3"
  }
 },
 "nbformat": 4,
 "nbformat_minor": 2
}
